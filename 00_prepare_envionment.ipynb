{
 "cells": [
  {
   "cell_type": "markdown",
   "id": "03d3f7d2-34b6-436b-984e-a60946fc3335",
   "metadata": {
    "gradient": {
     "editing": false,
     "id": "03d3f7d2-34b6-436b-984e-a60946fc3335",
     "kernelId": ""
    }
   },
   "source": [
    "## Prepare Environment"
   ]
  },
  {
   "cell_type": "code",
   "execution_count": null,
   "id": "15551402-d914-4acd-be1e-c4fb52931361",
   "metadata": {
    "gradient": {
     "editing": false,
     "id": "15551402-d914-4acd-be1e-c4fb52931361",
     "kernelId": ""
    }
   },
   "outputs": [],
   "source": [
    "!pip install -q transformers>=4.18\n",
    "!pip install -q datasets>=1.8\n",
    "!pip install -q nlpaug\n",
    "!pip install -q nltk\n",
    "!pip install -q gensim\n",
    "!pip install -q tqdm --upgrade\n",
    "!pip install -q mlflow\n",
    "!pip install -q cloudpickle==2.0.0\n",
    "!pip install -q google-api-core==2.4.0 google-auth==2.3.3 google-cloud==0.34.0 google-cloud-core==2.2.1 google-cloud-storage==2.0.0 google-crc32c==1.3.0 google-resumable-media==2.1.0 googleapis-common-protos==1.54.0"
   ]
  },
  {
   "cell_type": "markdown",
   "id": "e73758ae-5486-46c1-bdfc-c8cce8483ccc",
   "metadata": {},
   "source": [
    "## Downloads"
   ]
  },
  {
   "cell_type": "code",
   "execution_count": null,
   "id": "950da203-9aa5-45f3-ad81-7adeb8109515",
   "metadata": {},
   "outputs": [],
   "source": [
    "import nltk\n",
    "\n",
    "nltk.download(\"averaged_perceptron_tagger\")\n",
    "nltk.download(\"wordnet\")\n",
    "nltk.download(\"omw-1.4\")\n",
    "nltk.download(\"punkt\")"
   ]
  },
  {
   "cell_type": "code",
   "execution_count": null,
   "id": "a185d794-0c4d-4dfc-b5de-8001ca5c0522",
   "metadata": {},
   "outputs": [],
   "source": [
    "!wget -N http://nlpgrid.seas.upenn.edu/PPDB/eng/ppdb-2.0-s-all.gz"
   ]
  },
  {
   "cell_type": "code",
   "execution_count": null,
   "id": "d54279e6-5c8e-4531-babf-6a1918089fc7",
   "metadata": {},
   "outputs": [],
   "source": [
    "!gzip -d ppdb-2.0-s-all.gz"
   ]
  },
  {
   "cell_type": "code",
   "execution_count": null,
   "id": "67267a28-73af-420f-8067-4ada1469f728",
   "metadata": {},
   "outputs": [],
   "source": [
    "# GoogleNews vectors link probably does not exist anymore\n",
    "# !wget https://s3.amazonaws.com/dl4j-distribution/GoogleNews-vectors-negative300.bin.gz"
   ]
  },
  {
   "cell_type": "code",
   "execution_count": null,
   "id": "07a9c6aa-3abc-4c9f-9bba-440b1ecf6737",
   "metadata": {},
   "outputs": [],
   "source": [
    "!wget -N https://dl.fbaipublicfiles.com/fasttext/vectors-english/crawl-300d-2M.vec.zip"
   ]
  },
  {
   "cell_type": "code",
   "execution_count": null,
   "id": "1f5ab53c-c950-4905-8971-87cc750a5336",
   "metadata": {},
   "outputs": [],
   "source": [
    "!unzip crawl-300d-2M.vec.zip"
   ]
  },
  {
   "cell_type": "code",
   "execution_count": null,
   "id": "0d7f29dd-e874-47d3-bed0-518adf8f159e",
   "metadata": {
    "gradient": {
     "editing": false,
     "id": "0d7f29dd-e874-47d3-bed0-518adf8f159e",
     "kernelId": ""
    }
   },
   "outputs": [],
   "source": [
    "!pip install -q ipywidgets widgetsnbextension pandas-profiling"
   ]
  },
  {
   "cell_type": "code",
   "execution_count": null,
   "id": "0908a245-140b-4682-a72f-dae6bc297738",
   "metadata": {
    "gradient": {
     "editing": false,
     "id": "0908a245-140b-4682-a72f-dae6bc297738",
     "kernelId": ""
    }
   },
   "outputs": [],
   "source": [
    "!jupyter nbextension enable --py widgetsnbextension"
   ]
  }
 ],
 "metadata": {
  "kernelspec": {
   "display_name": "Python 3.10.7 64-bit ('3.10')",
   "language": "python",
   "name": "python3"
  },
  "language_info": {
   "codemirror_mode": {
    "name": "ipython",
    "version": 3
   },
   "file_extension": ".py",
   "mimetype": "text/x-python",
   "name": "python",
   "nbconvert_exporter": "python",
   "pygments_lexer": "ipython3",
   "version": "3.10.7"
  },
  "vscode": {
   "interpreter": {
    "hash": "a6ba71ed456c7c7da9b4490b91c05d67ec06230d66828af52192873c8e577ebd"
   }
  }
 },
 "nbformat": 4,
 "nbformat_minor": 5
}
