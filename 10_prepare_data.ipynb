{
 "cells": [
  {
   "cell_type": "markdown",
   "id": "633612cb-71ef-44e0-89f1-a15d3c63a34a",
   "metadata": {
    "gradient": {
     "editing": false,
     "id": "633612cb-71ef-44e0-89f1-a15d3c63a34a",
     "kernelId": ""
    }
   },
   "source": [
    "## Imports"
   ]
  },
  {
   "cell_type": "code",
   "execution_count": null,
   "id": "21aa1937-1dfc-4238-b5f7-62135ba94b90",
   "metadata": {
    "gradient": {
     "editing": false,
     "execution_count": 18,
     "id": "21aa1937-1dfc-4238-b5f7-62135ba94b90",
     "kernelId": ""
    }
   },
   "outputs": [],
   "source": [
    "import pandas as pd\n",
    "\n",
    "from utils import parse_text"
   ]
  },
  {
   "cell_type": "markdown",
   "id": "4651b9b6-9820-44ca-83d2-bba511713d47",
   "metadata": {},
   "source": [
    "## Constants"
   ]
  },
  {
   "cell_type": "code",
   "execution_count": null,
   "id": "1f6f5db3-1be0-41bc-aa28-a339af3d618c",
   "metadata": {},
   "outputs": [],
   "source": [
    "# Original file prepared by our anno team\n",
    "ANNOTATED_SENSITIVE_DATA = \"data/annotated-sensitive-en.csv\"\n",
    "\n",
    "# Below files need to be get from prod and stage databases (via Metabase or Ackee DB),\n",
    "# since not all the articles, in the document provided by anno team (see above), have perex and body.\n",
    "# See below for the SQL commands to get these.\n",
    "CMS_PROD_SENSITIVE_DATA = \"data/cms-sensitive-articles-prod.csv\"\n",
    "CMS_STAGE_SENSITIVE_DATA = \"data/cms-sensitive-articles-stage.csv\"\n",
    "CMS_NONSENSITIVE_DATA = \"data/cms-nonsensitive-articles-prod-all.csv\"\n",
    "\n",
    "# Processed (output) files\n",
    "PROCESSED_SENSITIVE_DATA = \"data/processed-sensitive-data.csv\"\n",
    "PROCESSED_NONSENSITIVE_DATA = \"data/processed-nonsensitive-data-all.csv\""
   ]
  },
  {
   "cell_type": "markdown",
   "id": "f7c2ec5d-09e4-46f7-815c-37343b154bfe",
   "metadata": {
    "gradient": {
     "editing": false,
     "id": "f7c2ec5d-09e4-46f7-815c-37343b154bfe",
     "kernelId": ""
    }
   },
   "source": [
    "## Get Data"
   ]
  },
  {
   "cell_type": "code",
   "execution_count": null,
   "id": "8c85e6ae-0245-4a3f-b9ac-c029d8ff153a",
   "metadata": {
    "gradient": {
     "editing": false,
     "execution_count": 19,
     "id": "8c85e6ae-0245-4a3f-b9ac-c029d8ff153a",
     "kernelId": ""
    }
   },
   "outputs": [],
   "source": [
    "df = pd.read_csv(ANNOTATED_SENSITIVE_DATA)"
   ]
  },
  {
   "cell_type": "code",
   "execution_count": null,
   "id": "302f4d15-c720-4afc-97b8-86cd7cd19817",
   "metadata": {
    "gradient": {
     "editing": false,
     "execution_count": 20,
     "id": "302f4d15-c720-4afc-97b8-86cd7cd19817",
     "kernelId": ""
    }
   },
   "outputs": [],
   "source": [
    "df[\"is_stage\"] = df.id.apply(lambda x: \"stage\" in str(x))\n",
    "df.head(5)"
   ]
  },
  {
   "cell_type": "code",
   "execution_count": null,
   "id": "85debc61-4cfd-4c55-97b1-0dcb88753bb6",
   "metadata": {
    "gradient": {
     "editing": false,
     "execution_count": 21,
     "id": "85debc61-4cfd-4c55-97b1-0dcb88753bb6",
     "kernelId": ""
    }
   },
   "outputs": [],
   "source": [
    "df[\"id_clean\"] = df.id.apply(lambda x: str(x).split(\"/\")[-1])\n",
    "df.head(5)"
   ]
  },
  {
   "cell_type": "code",
   "execution_count": null,
   "id": "98cbf51a-3889-4253-a9f7-623c8480d2e5",
   "metadata": {
    "gradient": {
     "editing": false,
     "execution_count": 22,
     "id": "98cbf51a-3889-4253-a9f7-623c8480d2e5",
     "kernelId": ""
    }
   },
   "outputs": [],
   "source": [
    "df = df[df[\"id_clean\"] != \"nan\"]\n",
    "df.reset_index(drop=True, inplace=True)\n",
    "df.head(5)"
   ]
  },
  {
   "cell_type": "code",
   "execution_count": null,
   "id": "df031f45-b4cd-49d9-bf39-7afc4d3cd250",
   "metadata": {
    "gradient": {
     "editing": false,
     "execution_count": 23,
     "id": "df031f45-b4cd-49d9-bf39-7afc4d3cd250",
     "kernelId": ""
    }
   },
   "outputs": [],
   "source": [
    "print(f\"Number of sensitive articles: {len(df)}\")"
   ]
  },
  {
   "cell_type": "code",
   "execution_count": null,
   "id": "cf08f075-dc7e-4233-bc78-51338279adf7",
   "metadata": {
    "gradient": {
     "editing": false,
     "execution_count": 24,
     "id": "cf08f075-dc7e-4233-bc78-51338279adf7",
     "kernelId": ""
    }
   },
   "outputs": [],
   "source": [
    "assert len(df) == len(set(list(df.id))), f\"Some articles are probably duplicates {len(df)} vs. {len(set(list(df.id)))}\""
   ]
  },
  {
   "cell_type": "code",
   "execution_count": null,
   "id": "1bf26df2-3143-4430-82bc-8cc6d32b3b6f",
   "metadata": {
    "gradient": {
     "editing": false,
     "execution_count": 25,
     "id": "1bf26df2-3143-4430-82bc-8cc6d32b3b6f",
     "kernelId": ""
    }
   },
   "outputs": [],
   "source": [
    "\",\".join([f\"'{i}'\" for i in list(set(df.id_clean.values))])"
   ]
  },
  {
   "cell_type": "markdown",
   "id": "dc87cc35-bfbc-4874-9d7e-f79baa8f4484",
   "metadata": {
    "gradient": {
     "editing": false,
     "id": "dc87cc35-bfbc-4874-9d7e-f79baa8f4484",
     "kernelId": ""
    }
   },
   "source": [
    "## Sensitive articles need to be extracted from both stage and production\n",
    "\n",
    "### SQL query for metabase to select sensitive articles\n",
    "\n",
    "SELECT id, title, perex, body<br>\n",
    "FROM article<br> \n",
    "WHERE language = 'en' and id in ('119792326','120286189','120376048','123306778','120007036','126175721','120536534','119676988','119092035','120623528','120485832','119074320','120383310','126923797','119002865','118987848','119432400','118965701','119533208','127135586','119973264','120413981','122894877','123293435','125763068','125467798','123459623','119051746','118793886','119567189','119570755','126382692','119161377','123288785','121602148','115014804','120605445','118289613','117085549','120415122','119181572','123802005','119003668','119581215','120210500','118970748','118986285','119051490','119000800','120842062','122263268','120656461','119220655','119773732','119116768','120019036','127067097','119427330','120716623','119326243','119041383','120576334','123901772','119679526','118965833','119617079','120578554','117582150','119389524','118970406','119048083','119003195','119962172','118965891','117631761','119476570','118965817','118963471','118960774','122905229','119240456','119969327','122809825','117329444','119051512','118227909','124213597','118869232','120556411','118945045','119753246','120158510','120549278','125800532','118965743','119035325','117045375','120287155','119163893','119248932','120671844','119723016','119004795','120378128','119770559','120433513','120525659','119328342','115306691','119130335','125824341','119303926','119162334','118960445','120517115','118959110','119128766','120100896','119831094','115051227','120390313','117135957','120244689','119121032','117264952','125031067','120548774','120257688','119099849','119460895','124481682','120311592','118821301','118965632','120052128','119696106','119435321','121616216','120309517','119003313','115904657','120139590','119235066','119049105','125891543','119220804','118927859','118691995','124637319','125808037','119975811','119464167','120549562','118965628','127011360','120523475','119756915','127171104','121221160','120828952','118965101','124307777','118965807','119811942','119823666','119734671','120550673','119318267','120492319','118967286','119053857','120538202','122758776','119198858','120062749','126471723','118197910','119635402','120438694','120433514','126771836','118950574','119051989','119331855','120337965','120650142','119305479','120854937','118987202','123810031','122391313','118961657','120112189','127150381','118900887','119324327','124507605','118835002','119136422')\n",
    "\n",
    "### SQL query for metabase to select nonsensitive articles\n",
    "\n",
    "SELECT id, title, perex, body<br>\n",
    "FROM article<br>\n",
    "WHERE language = 'en' and title != '' and perex != '' and id not in ('119792326','120286189','120376048','123306778','120007036','126175721','120536534','119676988','119092035','120623528','120485832','119074320','120383310','126923797','119002865','118987848','119432400','118965701','119533208','127135586','119973264','120413981','122894877','123293435','125763068','125467798','123459623','119051746','118793886','119567189','119570755','126382692','119161377','123288785','121602148','115014804','120605445','118289613','117085549','120415122','119181572','123802005','119003668','119581215','120210500','118970748','118986285','119051490','119000800','120842062','122263268','120656461','119220655','119773732','119116768','120019036','127067097','119427330','120716623','119326243','119041383','120576334','123901772','119679526','118965833','119617079','120578554','117582150','119389524','118970406','119048083','119003195','119962172','118965891','117631761','119476570','118965817','118963471','118960774','122905229','119240456','119969327','122809825','117329444','119051512','118227909','124213597','118869232','120556411','118945045','119753246','120158510','120549278','125800532','118965743','119035325','117045375','120287155','119163893','119248932','120671844','119723016','119004795','120378128','119770559','120433513','120525659','119328342','115306691','119130335','125824341','119303926','119162334','118960445','120517115','118959110','119128766','120100896','119831094','115051227','120390313','117135957','120244689','119121032','117264952','125031067','120548774','120257688','119099849','119460895','124481682','120311592','118821301','118965632','120052128','119696106','119435321','121616216','120309517','119003313','115904657','120139590','119235066','119049105','125891543','119220804','118927859','118691995','124637319','125808037','119975811','119464167','120549562','118965628','127011360','120523475','119756915','127171104','121221160','120828952','118965101','124307777','118965807','119811942','119823666','119734671','120550673','119318267','120492319','118967286','119053857','120538202','122758776','119198858','120062749','126471723','118197910','119635402','120438694','120433514','126771836','118950574','119051989','119331855','120337965','120650142','119305479','120854937','118987202','123810031','122391313','118961657','120112189','127150381','118900887','119324327','124507605','118835002','119136422')\n",
    "LIMIT 100000\n"
   ]
  },
  {
   "cell_type": "markdown",
   "id": "822e6b7c-d5ca-4e8d-bf3a-a18284e60aee",
   "metadata": {
    "gradient": {
     "editing": false,
     "id": "822e6b7c-d5ca-4e8d-bf3a-a18284e60aee",
     "kernelId": ""
    }
   },
   "source": [
    "## Link sensitive article id with its content"
   ]
  },
  {
   "cell_type": "code",
   "execution_count": null,
   "id": "a5aa53b7-b66d-40d5-809a-a1e3c508f8b9",
   "metadata": {
    "gradient": {
     "editing": false,
     "execution_count": 26,
     "id": "a5aa53b7-b66d-40d5-809a-a1e3c508f8b9",
     "kernelId": ""
    }
   },
   "outputs": [],
   "source": [
    "df_prod_articles_sensitive = pd.read_csv(CMS_PROD_SENSITIVE_DATA, delimiter=\",\", encoding=\"utf-8\")\n",
    "df_stage_articles_sensitive = pd.read_csv(CMS_STAGE_SENSITIVE_DATA, delimiter=\",\", encoding=\"utf-8\")"
   ]
  },
  {
   "cell_type": "code",
   "execution_count": null,
   "id": "cc51ddc5-34db-4345-b96c-733eb21b6774",
   "metadata": {
    "gradient": {
     "editing": false,
     "execution_count": 27,
     "id": "cc51ddc5-34db-4345-b96c-733eb21b6774",
     "kernelId": ""
    }
   },
   "outputs": [],
   "source": [
    "df_prod_articles_sensitive.columns"
   ]
  },
  {
   "cell_type": "code",
   "execution_count": null,
   "id": "7c7f96b4-47cb-4094-b716-da1d92f0add8",
   "metadata": {
    "gradient": {
     "editing": false,
     "execution_count": 28,
     "id": "7c7f96b4-47cb-4094-b716-da1d92f0add8",
     "kernelId": ""
    }
   },
   "outputs": [],
   "source": [
    "len(set(df_prod_articles_sensitive.id) & set(df_stage_articles_sensitive.id))"
   ]
  },
  {
   "cell_type": "code",
   "execution_count": null,
   "id": "1c165e22-9284-482b-8412-55e5824561ca",
   "metadata": {
    "gradient": {
     "editing": false,
     "execution_count": 29,
     "id": "1c165e22-9284-482b-8412-55e5824561ca",
     "kernelId": ""
    }
   },
   "outputs": [],
   "source": [
    "df_prod_articles_sensitive = df_prod_articles_sensitive[[\"id\", \"title\", \"perex\", \"body\"]]\n",
    "df_stage_articles_sensitive = df_stage_articles_sensitive[[\"id\", \"title\", \"perex\", \"body\"]]"
   ]
  },
  {
   "cell_type": "code",
   "execution_count": null,
   "id": "4d2b823a-17f1-4d99-82ec-1fe2421aae15",
   "metadata": {
    "gradient": {
     "editing": false,
     "execution_count": 30,
     "id": "4d2b823a-17f1-4d99-82ec-1fe2421aae15",
     "kernelId": ""
    }
   },
   "outputs": [],
   "source": [
    "def get_data(row):\n",
    "    return {\n",
    "        \"title\": parse_text(row.title.values[0]),\n",
    "        \"perex\": parse_text(row.perex.values[0]),\n",
    "        \"body\": parse_text(row.body.values[0]),\n",
    "    }"
   ]
  },
  {
   "cell_type": "code",
   "execution_count": null,
   "id": "37cbfde6-0870-4090-aa58-0cb26835cfa4",
   "metadata": {
    "gradient": {
     "editing": false,
     "execution_count": 31,
     "id": "37cbfde6-0870-4090-aa58-0cb26835cfa4",
     "kernelId": ""
    }
   },
   "outputs": [],
   "source": [
    "sensitive_data = {}\n",
    "prod_ids = list(df_prod_articles_sensitive.id.astype(str))\n",
    "stage_ids = list(df_stage_articles_sensitive.id.astype(str))\n",
    "for _, row in df.iterrows():\n",
    "    if row.is_stage:\n",
    "        sensitive_data[str(row.id_clean)] = get_data(\n",
    "            df_stage_articles_sensitive[df_stage_articles_sensitive.id == int(row.id_clean)]\n",
    "        )\n",
    "    else:\n",
    "        sensitive_data[str(row.id_clean)] = get_data(\n",
    "            df_prod_articles_sensitive[df_prod_articles_sensitive.id == int(row.id_clean)]\n",
    "        )"
   ]
  },
  {
   "cell_type": "code",
   "execution_count": null,
   "id": "abc7f410-e21c-4cdb-b728-fa639a801580",
   "metadata": {
    "gradient": {
     "editing": false,
     "execution_count": 32,
     "id": "abc7f410-e21c-4cdb-b728-fa639a801580",
     "kernelId": ""
    }
   },
   "outputs": [],
   "source": [
    "print(f\"Number of sensitive articles: {len(sensitive_data)}\")"
   ]
  },
  {
   "cell_type": "code",
   "execution_count": null,
   "id": "175dea5d-6736-4568-bbf2-5e862e1d2bea",
   "metadata": {
    "gradient": {
     "editing": false,
     "execution_count": 33,
     "id": "175dea5d-6736-4568-bbf2-5e862e1d2bea",
     "kernelId": ""
    }
   },
   "outputs": [],
   "source": [
    "df_sensitive = pd.DataFrame.from_dict(sensitive_data, orient=\"index\")\n",
    "df_sensitive.index.name = \"id\"\n",
    "df_sensitive.head(5)"
   ]
  },
  {
   "cell_type": "code",
   "execution_count": null,
   "id": "e8eabf55-4f02-4052-81c4-7dae965b43fc",
   "metadata": {
    "gradient": {
     "execution_count": 34,
     "id": "e8eabf55-4f02-4052-81c4-7dae965b43fc",
     "kernelId": ""
    }
   },
   "outputs": [],
   "source": [
    "df_sensitive.to_csv(PROCESSED_SENSITIVE_DATA)"
   ]
  },
  {
   "cell_type": "markdown",
   "id": "1b031823-af81-4c2c-9ab3-4be259a4c03c",
   "metadata": {
    "gradient": {
     "editing": false,
     "id": "1b031823-af81-4c2c-9ab3-4be259a4c03c",
     "kernelId": ""
    }
   },
   "source": [
    "## Link non-sensitive article id with its content"
   ]
  },
  {
   "cell_type": "code",
   "execution_count": null,
   "id": "60a5fc08-a920-4c95-b355-b76e763262eb",
   "metadata": {
    "gradient": {
     "execution_count": 35,
     "id": "60a5fc08-a920-4c95-b355-b76e763262eb",
     "kernelId": ""
    }
   },
   "outputs": [],
   "source": [
    "df_prod_articles = pd.read_csv(CMS_NONSENSITIVE_DATA, delimiter=\",\", encoding=\"utf-8\")"
   ]
  },
  {
   "cell_type": "code",
   "execution_count": null,
   "id": "8b2db14b-a9b5-46c7-9278-68c3f037e73e",
   "metadata": {
    "gradient": {
     "execution_count": 36,
     "id": "8b2db14b-a9b5-46c7-9278-68c3f037e73e",
     "kernelId": ""
    }
   },
   "outputs": [],
   "source": [
    "df_prod_articles[\"body\"] = df_prod_articles[\"body\"].apply(lambda x: parse_text(str(x)))"
   ]
  },
  {
   "cell_type": "code",
   "execution_count": null,
   "id": "00c56cc7-6bc6-4034-b606-a21cdb629c0a",
   "metadata": {
    "gradient": {
     "execution_count": 37,
     "id": "00c56cc7-6bc6-4034-b606-a21cdb629c0a",
     "kernelId": ""
    }
   },
   "outputs": [],
   "source": [
    "df_prod_articles.set_index(\"id\").to_csv(PROCESSED_NONSENSITIVE_DATA)"
   ]
  }
 ],
 "metadata": {
  "kernelspec": {
   "display_name": "Python 3.10.7 64-bit ('3.10')",
   "language": "python",
   "name": "python3"
  },
  "language_info": {
   "codemirror_mode": {
    "name": "ipython",
    "version": 3
   },
   "file_extension": ".py",
   "mimetype": "text/x-python",
   "name": "python",
   "nbconvert_exporter": "python",
   "pygments_lexer": "ipython3",
   "version": "3.10.7"
  },
  "vscode": {
   "interpreter": {
    "hash": "a6ba71ed456c7c7da9b4490b91c05d67ec06230d66828af52192873c8e577ebd"
   }
  }
 },
 "nbformat": 4,
 "nbformat_minor": 5
}
