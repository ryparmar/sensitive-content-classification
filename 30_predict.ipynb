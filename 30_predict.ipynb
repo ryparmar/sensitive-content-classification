{
 "cells": [
  {
   "cell_type": "markdown",
   "id": "093c9a60-b4a0-4f7f-b9ef-8b90a59714d6",
   "metadata": {},
   "source": [
    "## Imports"
   ]
  },
  {
   "cell_type": "code",
   "execution_count": null,
   "id": "abdf0dd1-054b-46e1-999b-a2e7d60760e4",
   "metadata": {},
   "outputs": [],
   "source": [
    "import os\n",
    "import torch\n",
    "import datasets\n",
    "\n",
    "import pandas as pd\n",
    "import numpy as np\n",
    "\n",
    "from sklearn.metrics import classification_report\n",
    "from torch.utils.data import Dataset, DataLoader\n",
    "from transformers import (\n",
    "    DataCollatorWithPadding,\n",
    "    AutoTokenizer,\n",
    "    AutoModel,\n",
    "    AutoModelForSequenceClassification,\n",
    "    Trainer,\n",
    "    TrainingArguments,\n",
    "    EvalPrediction,\n",
    "    pipeline,\n",
    ")\n",
    "\n",
    "from utils import merge_title_perex_body"
   ]
  },
  {
   "cell_type": "markdown",
   "id": "11fc35bb-41aa-4cd0-a85f-2a750a02d6cb",
   "metadata": {},
   "source": [
    "## Define constants"
   ]
  },
  {
   "cell_type": "code",
   "execution_count": null,
   "id": "3525881b-9a56-4bab-96eb-1a3f64095b46",
   "metadata": {},
   "outputs": [],
   "source": [
    "DEVICE = torch.device(\"cuda\") if torch.cuda.is_available() else torch.device(\"cpu\")\n",
    "print(DEVICE)"
   ]
  },
  {
   "cell_type": "code",
   "execution_count": null,
   "id": "f333fa74-7c92-4d1c-a86d-1a9f720d9552",
   "metadata": {},
   "outputs": [],
   "source": [
    "INPUT_DATA_FILEPATH = \"data/100k_prod_articles.csv\"\n",
    "MODEL_DIR = \"distilbert_5ep_weighted_CE_loss_w_augmented_data/model\"\n",
    "\n",
    "OUTPUT_PREDICTIONS_FILEPATH = \"data/found_sensitive_to_check.csv\"\n",
    "RANDOM_SEED = 11"
   ]
  },
  {
   "cell_type": "markdown",
   "id": "c2ff0081-1c5e-4804-ba46-47dd3749a5b6",
   "metadata": {},
   "source": [
    "## Read data"
   ]
  },
  {
   "cell_type": "code",
   "execution_count": null,
   "id": "f11022d2-c2cf-4d5b-8ee5-e98bcb057f82",
   "metadata": {},
   "outputs": [],
   "source": [
    "df = pd.read_csv(INPUT_DATA_FILEPATH)"
   ]
  },
  {
   "cell_type": "code",
   "execution_count": null,
   "id": "24eb2b25-79f8-4b33-bc5f-14e6231c35ba",
   "metadata": {},
   "outputs": [],
   "source": [
    "df.shape"
   ]
  },
  {
   "cell_type": "code",
   "execution_count": null,
   "id": "3fa37a37-7e0f-4b5c-8c1e-9df318484c64",
   "metadata": {},
   "outputs": [],
   "source": [
    "df[\"text\"] = df.apply(merge_title_perex_body, axis=1)\n",
    "df.drop([\"title\", \"perex\", \"body\"], axis=1, inplace=True)"
   ]
  },
  {
   "cell_type": "code",
   "execution_count": null,
   "id": "6340d1be-e406-47bc-8751-98f6a2903c78",
   "metadata": {},
   "outputs": [],
   "source": [
    "df.head(3)"
   ]
  },
  {
   "cell_type": "markdown",
   "id": "fc4f69d8-8023-4fd0-bd53-1d52847d853c",
   "metadata": {},
   "source": [
    "## Get model"
   ]
  },
  {
   "cell_type": "code",
   "execution_count": null,
   "id": "13e777f1-dcb3-427e-8588-035e1ab3731a",
   "metadata": {},
   "outputs": [],
   "source": [
    "model = AutoModelForSequenceClassification.from_pretrained(MODEL_DIR)\n",
    "tokenizer = AutoTokenizer.from_pretrained(MODEL_DIR)"
   ]
  },
  {
   "cell_type": "markdown",
   "id": "1fadbce2-e779-4383-92fd-5004e480ea06",
   "metadata": {},
   "source": [
    "## Dataset"
   ]
  },
  {
   "cell_type": "code",
   "execution_count": null,
   "id": "68b5dfe7-ed71-43ec-bf31-90067043c24a",
   "metadata": {},
   "outputs": [],
   "source": [
    "class DatasetRetriever(Dataset):\n",
    "    def __init__(self, data, tokenizer, is_test=False):\n",
    "        self.data = data\n",
    "        self.tokenizer = tokenizer\n",
    "        self.text = self.data.text.values.tolist()\n",
    "        if not is_test:\n",
    "            self.label = self.data.sensitive.values.tolist()\n",
    "        self.is_test = is_test\n",
    "\n",
    "    def __len__(self):\n",
    "        return len(self.data)\n",
    "\n",
    "    def __getitem__(self, item):\n",
    "        tokenized = tokenizer(self.text[item], truncation=True)\n",
    "        if not self.is_test:\n",
    "            return {\n",
    "                \"label\": int(self.label[item]),\n",
    "                \"input_ids\": tokenized[\"input_ids\"],\n",
    "                \"attention_mask\": tokenized[\"attention_mask\"],\n",
    "            }\n",
    "        else:\n",
    "            return {\n",
    "                \"input_ids\": tokenized[\"input_ids\"],\n",
    "                \"attention_mask\": tokenized[\"attention_mask\"],\n",
    "            }"
   ]
  },
  {
   "cell_type": "code",
   "execution_count": null,
   "id": "24fac1a1-c8c1-4fef-92c2-13482b0f4eef",
   "metadata": {},
   "outputs": [],
   "source": [
    "test_dataset = DatasetRetriever(df, tokenizer, is_test=True)"
   ]
  },
  {
   "cell_type": "code",
   "execution_count": null,
   "id": "86ec658c-fcd5-412b-a69d-6efd49b4e397",
   "metadata": {},
   "outputs": [],
   "source": [
    "data_collator = DataCollatorWithPadding(tokenizer=tokenizer)"
   ]
  },
  {
   "cell_type": "markdown",
   "id": "fea6ad4a-6579-4027-8431-44a6daebb428",
   "metadata": {},
   "source": [
    "## Trainer object"
   ]
  },
  {
   "cell_type": "code",
   "execution_count": null,
   "id": "e464966f-c2f3-4163-9af7-e3fa0f7cbe07",
   "metadata": {},
   "outputs": [],
   "source": [
    "training_args = TrainingArguments(\n",
    "    output_dir=\"./results\",\n",
    "    learning_rate=2e-5,\n",
    "    per_device_train_batch_size=16,\n",
    "    per_device_eval_batch_size=16,\n",
    "    num_train_epochs=5,\n",
    "    weight_decay=0.01,\n",
    "    save_total_limit=1,\n",
    "    seed=RANDOM_SEED,\n",
    "    overwrite_output_dir=\"True\",\n",
    "    evaluation_strategy=\"steps\",\n",
    "    eval_steps=500,\n",
    ")\n",
    "\n",
    "trainer = Trainer(\n",
    "    model=model,\n",
    "    args=training_args,\n",
    "    tokenizer=tokenizer,\n",
    "    data_collator=data_collator,\n",
    "    # compute_metrics=compute_metrics,\n",
    ")"
   ]
  },
  {
   "cell_type": "code",
   "execution_count": null,
   "id": "2654daaf-92ce-4b9c-a40e-fccadb102e2d",
   "metadata": {},
   "outputs": [],
   "source": [
    "# test_loader = DataLoader(test_dataset, batch_size=32, shuffle=False)\n",
    "# predictions, _, _ = trainer.prediction_loop(test_loader, description=\"prediction\")"
   ]
  },
  {
   "cell_type": "markdown",
   "id": "a69c35ea-8c54-45e0-80eb-b4e3df3c19b2",
   "metadata": {},
   "source": [
    "## Generate predictions"
   ]
  },
  {
   "cell_type": "code",
   "execution_count": null,
   "id": "a000ec6f-6300-407a-b15e-4b6d8acc149b",
   "metadata": {},
   "outputs": [],
   "source": [
    "predictions = trainer.predict(test_dataset, metric_key_prefix=\"predict\").predictions\n",
    "predictions = np.argmax(predictions, axis=1)"
   ]
  },
  {
   "cell_type": "code",
   "execution_count": null,
   "id": "985e8ad4-ec81-4f4a-bd55-24f39ee60f82",
   "metadata": {},
   "outputs": [],
   "source": [
    "list(np.nonzero(predictions)[0])[:10]"
   ]
  },
  {
   "cell_type": "code",
   "execution_count": null,
   "id": "9aad6b4a-676f-4471-aade-33407ae7abca",
   "metadata": {},
   "outputs": [],
   "source": [
    "df.iloc[list(np.nonzero(predictions)[0])].to_csv(OUTPUT_PREDICTIONS_FILEPATH, index=False)"
   ]
  }
 ],
 "metadata": {
  "kernelspec": {
   "display_name": "Python 3.10.7 64-bit ('3.10')",
   "language": "python",
   "name": "python3"
  },
  "language_info": {
   "codemirror_mode": {
    "name": "ipython",
    "version": 3
   },
   "file_extension": ".py",
   "mimetype": "text/x-python",
   "name": "python",
   "nbconvert_exporter": "python",
   "pygments_lexer": "ipython3",
   "version": "3.10.7"
  },
  "vscode": {
   "interpreter": {
    "hash": "a6ba71ed456c7c7da9b4490b91c05d67ec06230d66828af52192873c8e577ebd"
   }
  }
 },
 "nbformat": 4,
 "nbformat_minor": 5
}
